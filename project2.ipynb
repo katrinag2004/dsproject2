{
  "nbformat": 4,
  "nbformat_minor": 0,
  "metadata": {
    "colab": {
      "provenance": [],
      "include_colab_link": true
    },
    "kernelspec": {
      "name": "python3",
      "display_name": "Python 3"
    },
    "language_info": {
      "name": "python"
    }
  },
  "cells": [
    {
      "cell_type": "markdown",
      "metadata": {
        "id": "view-in-github",
        "colab_type": "text"
      },
      "source": [
        "<a href=\"https://colab.research.google.com/github/katrinag2004/dsproject2/blob/main/project2.ipynb\" target=\"_parent\"><img src=\"https://colab.research.google.com/assets/colab-badge.svg\" alt=\"Open In Colab\"/></a>"
      ]
    },
    {
      "cell_type": "code",
      "source": [
        "!pip install pandas\n"
      ],
      "metadata": {
        "colab": {
          "base_uri": "https://localhost:8080/"
        },
        "id": "bCOcobo54QJN",
        "outputId": "dbd91f47-8639-4580-8e38-181fc3bd8504"
      },
      "execution_count": null,
      "outputs": [
        {
          "output_type": "stream",
          "name": "stdout",
          "text": [
            "Requirement already satisfied: pandas in /usr/local/lib/python3.11/dist-packages (2.2.2)\n",
            "Requirement already satisfied: numpy>=1.23.2 in /usr/local/lib/python3.11/dist-packages (from pandas) (2.0.2)\n",
            "Requirement already satisfied: python-dateutil>=2.8.2 in /usr/local/lib/python3.11/dist-packages (from pandas) (2.8.2)\n",
            "Requirement already satisfied: pytz>=2020.1 in /usr/local/lib/python3.11/dist-packages (from pandas) (2025.2)\n",
            "Requirement already satisfied: tzdata>=2022.7 in /usr/local/lib/python3.11/dist-packages (from pandas) (2025.2)\n",
            "Requirement already satisfied: six>=1.5 in /usr/local/lib/python3.11/dist-packages (from python-dateutil>=2.8.2->pandas) (1.17.0)\n"
          ]
        }
      ]
    },
    {
      "cell_type": "code",
      "source": [
        "from flask import Flask, request, jsonify\n",
        "import requests\n",
        "import pandas as pd\n",
        "\n",
        "app = Flask(__name__)\n",
        "\n",
        "\n",
        "\n",
        "# Function to get artist information from the Spotify API\n",
        "def get_spotify_artist_info(artist_name, access_token):\n",
        "    # The base URL for the Spotify Web API\n",
        "    url = f'https://api.spotify.com/v1/search?q={artist_name}&type=artist'\n",
        "\n",
        "    # Set the headers with your access token\n",
        "    headers = {\n",
        "        'Authorization': f'Bearer {access_token}'\n",
        "    }\n",
        "\n",
        "    # Send the request to the Spotify API\n",
        "    response = requests.get(url, headers=headers)\n",
        "\n",
        "    # Check if the request was successful\n",
        "    if response.status_code == 200:\n",
        "        data = response.json()\n",
        "        if data['artists']['items']:\n",
        "            artist_info = data['artists']['items'][0]  # Get the first matching artist\n",
        "            return {\n",
        "                'name': artist_info['name'],\n",
        "                'popularity': artist_info['popularity'],\n",
        "                'genres': artist_info['genres'],\n",
        "                'followers': artist_info['followers']['total']\n",
        "            }\n",
        "        else:\n",
        "            return {'error': 'Artist not found.'}\n",
        "    else:\n",
        "        return {'error': 'Failed to retrieve data from Spotify.'}\n",
        "\n",
        "\n",
        "# Function to load local data\n",
        "def load_data():\n",
        "    df = pd.read_csv('recipes.csv')  # Or other local data sources\n",
        "    return df\n",
        "\n",
        "# Main route to test if Flask is running\n",
        "@app.route('/')\n",
        "def home():\n",
        "    return \"Welcome to the Flask Chatbot!\"\n",
        "\n",
        "# Chatbot query route\n",
        "@app.route('/ask', methods=['GET'])\n",
        "def ask():\n",
        "    question = request.args.get('question')\n",
        "    if 'weather' in question.lower():\n",
        "        city = request.args.get('city', 'London')  # Default city\n",
        "        weather = get_weather(city)\n",
        "        return jsonify({\"answer\": f\"The weather in {city} is {weather}.\"})\n",
        "    elif 'recipe' in question.lower():\n",
        "        df = load_data()\n",
        "        recipe = df[df['name'].str.contains('chicken')].iloc[0]  # Example query\n",
        "        return jsonify({\"answer\": f\"Try this recipe: {recipe['name']}.\"})\n",
        "    else:\n",
        "        return jsonify({\"answer\": \"Sorry, I don't have an answer to that.\"})\n",
        "\n",
        "if __name__ == '__main__':\n",
        "    app.run(debug=True)\n"
      ],
      "metadata": {
        "colab": {
          "base_uri": "https://localhost:8080/"
        },
        "id": "FRKQH7Yf4TSB",
        "outputId": "2a01e529-4c13-4b88-836a-51b68ab5049a"
      },
      "execution_count": null,
      "outputs": [
        {
          "metadata": {
            "tags": null
          },
          "name": "stdout",
          "output_type": "stream",
          "text": [
            " * Serving Flask app '__main__'\n",
            " * Debug mode: on\n"
          ]
        },
        {
          "metadata": {
            "tags": null
          },
          "name": "stderr",
          "output_type": "stream",
          "text": [
            "INFO:werkzeug:\u001b[31m\u001b[1mWARNING: This is a development server. Do not use it in a production deployment. Use a production WSGI server instead.\u001b[0m\n",
            " * Running on http://127.0.0.1:5000\n",
            "INFO:werkzeug:\u001b[33mPress CTRL+C to quit\u001b[0m\n",
            "INFO:werkzeug: * Restarting with stat\n"
          ]
        }
      ]
    }
  ]
}