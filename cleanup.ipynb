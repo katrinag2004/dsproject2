{
  "nbformat": 4,
  "nbformat_minor": 0,
  "metadata": {
    "colab": {
      "provenance": [],
      "authorship_tag": "ABX9TyPD4cKG0yXoKAuH1LHOs8Fn",
      "include_colab_link": true
    },
    "kernelspec": {
      "name": "python3",
      "display_name": "Python 3"
    },
    "language_info": {
      "name": "python"
    }
  },
  "cells": [
    {
      "cell_type": "markdown",
      "metadata": {
        "id": "view-in-github",
        "colab_type": "text"
      },
      "source": [
        "<a href=\"https://colab.research.google.com/github/katrinag2004/dsproject2/blob/main/cleanup.ipynb\" target=\"_parent\"><img src=\"https://colab.research.google.com/assets/colab-badge.svg\" alt=\"Open In Colab\"/></a>"
      ]
    },
    {
      "cell_type": "code",
      "source": [
        "import pandas as pd\n",
        "\n",
        "# Step 1: Load the dataset\n",
        "df = pd.read_csv(\"/content/tracks_features.csv\")\n",
        "\n",
        "# Step 2: Drop unwanted columns\n",
        "columns_to_drop = [\n",
        "    'speechiness', 'acousticness', 'instrumentalness', 'liveness',\n",
        "    'valence', 'tempo', 'time_signature', 'disc_number', 'track_number',\n",
        "    'key', 'loudness', 'danceability'\n",
        "]\n",
        "df = df.drop(columns=columns_to_drop)\n",
        "\n",
        "\n",
        "# Step 4: Keep only relevant columns (edit these based on your dataset's actual column names)\n",
        "# For example, assume the relevant columns are:\n",
        "# 'id' = track ID, 'artists_id' = artist ID, 'name' = track name\n",
        "\n",
        "columns_to_keep = ['id','artists', 'artist_ids', 'name']  # Modify as needed\n",
        "df = df[columns_to_keep]\n",
        "\n",
        "# Step 5: Drop duplicate artist entries (keeping first song per artist)\n",
        "df = df.drop_duplicates(subset='artist_ids', keep='first')\n",
        "\n",
        "# Step 6: Save the cleaned dataset\n",
        "df.to_csv(\"modified_songs3.csv\", index=False)\n",
        "\n",
        "print(\"✅ Modified dataset saved with\", len(df), \"rows.\")\n"
      ],
      "metadata": {
        "colab": {
          "base_uri": "https://localhost:8080/"
        },
        "id": "i0Du_pnC3yy2",
        "outputId": "63ed041f-c51f-416a-f724-4e4403eceb52"
      },
      "execution_count": 19,
      "outputs": [
        {
          "output_type": "stream",
          "name": "stdout",
          "text": [
            "✅ Modified dataset saved with 166423 rows.\n"
          ]
        }
      ]
    },
    {
      "cell_type": "code",
      "source": [
        "from google.colab import files\n",
        "files.download(\"modified_songs3.csv\")\n"
      ],
      "metadata": {
        "colab": {
          "base_uri": "https://localhost:8080/",
          "height": 17
        },
        "id": "xnKYUqgO7UER",
        "outputId": "f516d260-8bd0-4161-8bb3-aff2fe9fceb3"
      },
      "execution_count": 20,
      "outputs": [
        {
          "output_type": "display_data",
          "data": {
            "text/plain": [
              "<IPython.core.display.Javascript object>"
            ],
            "application/javascript": [
              "\n",
              "    async function download(id, filename, size) {\n",
              "      if (!google.colab.kernel.accessAllowed) {\n",
              "        return;\n",
              "      }\n",
              "      const div = document.createElement('div');\n",
              "      const label = document.createElement('label');\n",
              "      label.textContent = `Downloading \"${filename}\": `;\n",
              "      div.appendChild(label);\n",
              "      const progress = document.createElement('progress');\n",
              "      progress.max = size;\n",
              "      div.appendChild(progress);\n",
              "      document.body.appendChild(div);\n",
              "\n",
              "      const buffers = [];\n",
              "      let downloaded = 0;\n",
              "\n",
              "      const channel = await google.colab.kernel.comms.open(id);\n",
              "      // Send a message to notify the kernel that we're ready.\n",
              "      channel.send({})\n",
              "\n",
              "      for await (const message of channel.messages) {\n",
              "        // Send a message to notify the kernel that we're ready.\n",
              "        channel.send({})\n",
              "        if (message.buffers) {\n",
              "          for (const buffer of message.buffers) {\n",
              "            buffers.push(buffer);\n",
              "            downloaded += buffer.byteLength;\n",
              "            progress.value = downloaded;\n",
              "          }\n",
              "        }\n",
              "      }\n",
              "      const blob = new Blob(buffers, {type: 'application/binary'});\n",
              "      const a = document.createElement('a');\n",
              "      a.href = window.URL.createObjectURL(blob);\n",
              "      a.download = filename;\n",
              "      div.appendChild(a);\n",
              "      a.click();\n",
              "      div.remove();\n",
              "    }\n",
              "  "
            ]
          },
          "metadata": {}
        },
        {
          "output_type": "display_data",
          "data": {
            "text/plain": [
              "<IPython.core.display.Javascript object>"
            ],
            "application/javascript": [
              "download(\"download_5f55ef60-6996-405c-8b26-733389c6e766\", \"modified_songs3.csv\", 24381632)"
            ]
          },
          "metadata": {}
        }
      ]
    }
  ]
}