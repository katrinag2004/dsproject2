{
  "cells": [
    {
      "cell_type": "markdown",
      "metadata": {
        "colab_type": "text",
        "id": "view-in-github"
      },
      "source": [
        "<a href=\"https://colab.research.google.com/github/katrinag2004/dsproject2/blob/main/cleanup.ipynb\" target=\"_parent\"><img src=\"https://colab.research.google.com/assets/colab-badge.svg\" alt=\"Open In Colab\"/></a>"
      ]
    },
    {
      "cell_type": "code",
      "execution_count": 2,
      "metadata": {
        "colab": {
          "base_uri": "https://localhost:8080/"
        },
        "id": "i0Du_pnC3yy2",
        "outputId": "63ed041f-c51f-416a-f724-4e4403eceb52"
      },
      "outputs": [
        {
          "name": "stdout",
          "output_type": "stream",
          "text": [
            "✅  Saved 140,449 unique artists to processed_local_data.csv\n"
          ]
        }
      ],
      "source": [
        "import ast         \n",
        "import pandas as pd\n",
        "\n",
        "SRC  = \"/Users/codyliddle/Desktop/UVA Year 3/DS Final Project/dsproject2/tracks_features.csv\"\n",
        "DEST = \"processed_local_data.csv\"      \n",
        "\n",
        "# 1. Load only the two columns we care about\n",
        "df = pd.read_csv(SRC, usecols=[\"artists\", \"artist_ids\"])\n",
        "\n",
        "# 2. Parse the stringified‑list cells → real lists\n",
        "def to_list(cell):\n",
        "    \"\"\"\n",
        "    ast.literal_eval safely turns \"['A','B']\" → ['A','B'].\n",
        "    If the cell is already a list (rare), it just returns it.\n",
        "    \"\"\"\n",
        "    if isinstance(cell, list):\n",
        "        return cell\n",
        "    try:\n",
        "        return ast.literal_eval(cell)\n",
        "    except Exception:\n",
        "        # fallback: treat as single‑item list\n",
        "        return [str(cell)]\n",
        "\n",
        "df[\"artists\"]     = df[\"artists\"].apply(to_list)\n",
        "df[\"artist_ids\"]  = df[\"artist_ids\"].apply(to_list)\n",
        "\n",
        "# 3. Sanity‑check lengths (keep rows where counts match)\n",
        "mask = df.apply(lambda r: len(r[\"artists\"]) == len(r[\"artist_ids\"]), axis=1)\n",
        "if not mask.all():\n",
        "    print(\"Dropping rows where artist list and id list lengths differ.\")\n",
        "df = df[mask]\n",
        "\n",
        "# 4. Explode so we get *one* artist per row\n",
        "df = df.explode([\"artists\", \"artist_ids\"], ignore_index=True)\n",
        "\n",
        "# 5. Rename & clean\n",
        "df = (\n",
        "    df\n",
        "    .rename(columns={\"artists\": \"artist_name\", \"artist_ids\": \"artist_id\"})\n",
        "    .assign(\n",
        "        artist_name=lambda x: x[\"artist_name\"].str.strip(),\n",
        "        artist_id=lambda x: x[\"artist_id\"].str.strip()\n",
        "    )\n",
        "    .drop_duplicates(subset=\"artist_id\", keep=\"first\")  # keep first occurrence\n",
        "    .sort_values(\"artist_name\")\n",
        ")\n",
        "\n",
        "# 6. Save\n",
        "df.to_csv(DEST, index=False)\n",
        "print(f\"Saved {len(df):,} unique artists to {DEST}\")\n"
      ]
    },
    {
      "cell_type": "code",
      "execution_count": 20,
      "metadata": {
        "colab": {
          "base_uri": "https://localhost:8080/",
          "height": 17
        },
        "id": "xnKYUqgO7UER",
        "outputId": "f516d260-8bd0-4161-8bb3-aff2fe9fceb3"
      },
      "outputs": [
        {
          "data": {
            "application/javascript": "\n    async function download(id, filename, size) {\n      if (!google.colab.kernel.accessAllowed) {\n        return;\n      }\n      const div = document.createElement('div');\n      const label = document.createElement('label');\n      label.textContent = `Downloading \"${filename}\": `;\n      div.appendChild(label);\n      const progress = document.createElement('progress');\n      progress.max = size;\n      div.appendChild(progress);\n      document.body.appendChild(div);\n\n      const buffers = [];\n      let downloaded = 0;\n\n      const channel = await google.colab.kernel.comms.open(id);\n      // Send a message to notify the kernel that we're ready.\n      channel.send({})\n\n      for await (const message of channel.messages) {\n        // Send a message to notify the kernel that we're ready.\n        channel.send({})\n        if (message.buffers) {\n          for (const buffer of message.buffers) {\n            buffers.push(buffer);\n            downloaded += buffer.byteLength;\n            progress.value = downloaded;\n          }\n        }\n      }\n      const blob = new Blob(buffers, {type: 'application/binary'});\n      const a = document.createElement('a');\n      a.href = window.URL.createObjectURL(blob);\n      a.download = filename;\n      div.appendChild(a);\n      a.click();\n      div.remove();\n    }\n  ",
            "text/plain": [
              "<IPython.core.display.Javascript object>"
            ]
          },
          "metadata": {},
          "output_type": "display_data"
        },
        {
          "data": {
            "application/javascript": "download(\"download_5f55ef60-6996-405c-8b26-733389c6e766\", \"modified_songs3.csv\", 24381632)",
            "text/plain": [
              "<IPython.core.display.Javascript object>"
            ]
          },
          "metadata": {},
          "output_type": "display_data"
        }
      ],
      "source": [
        "from google.colab import files\n",
        "files.download(\"modified_songs3.csv\")\n"
      ]
    }
  ],
  "metadata": {
    "colab": {
      "authorship_tag": "ABX9TyPD4cKG0yXoKAuH1LHOs8Fn",
      "include_colab_link": true,
      "provenance": []
    },
    "kernelspec": {
      "display_name": "Python 3",
      "name": "python3"
    },
    "language_info": {
      "codemirror_mode": {
        "name": "ipython",
        "version": 3
      },
      "file_extension": ".py",
      "mimetype": "text/x-python",
      "name": "python",
      "nbconvert_exporter": "python",
      "pygments_lexer": "ipython3",
      "version": "3.9.12"
    }
  },
  "nbformat": 4,
  "nbformat_minor": 0
}
